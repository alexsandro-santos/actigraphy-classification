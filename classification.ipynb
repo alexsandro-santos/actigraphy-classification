{
  "cells": [
    {
      "attachments": {},
      "cell_type": "markdown",
      "metadata": {
        "id": "jpRC5IvW3eb8"
      },
      "source": [
        "# Actigraphy data classification\n",
        "\n",
        "### Authors:\n",
        "* Alexsandro Santos da Rosa Júnior\n",
        "* Giovanni Benedetti da Rosa\n",
        "* Paulo Roberto de Moura Júnior"
      ]
    },
    {
      "cell_type": "code",
      "execution_count": null,
      "metadata": {
        "id": "AdGTZ20hsUsM"
      },
      "outputs": [],
      "source": [
        "import pandas as pd\n",
        "import numpy as np\n",
        "import matplotlib.pyplot as plt\n",
        "from sklearn.exceptions import ConvergenceWarning\n",
        "\n",
        "import warnings\n",
        "warnings.filterwarnings(\"ignore\", category=UserWarning)\n",
        "warnings.filterwarnings(\"ignore\", category=ConvergenceWarning)"
      ]
    },
    {
      "attachments": {},
      "cell_type": "markdown",
      "metadata": {
        "id": "NuUsmUc4INqd"
      },
      "source": [
        "## Data"
      ]
    },
    {
      "cell_type": "code",
      "execution_count": null,
      "metadata": {
        "id": "UPSblEhFsUsQ"
      },
      "outputs": [],
      "source": [
        "X = pd.read_csv('extracted_features.csv')\n",
        "y = pd.read_csv('timeseries_classification.csv')"
      ]
    },
    {
      "cell_type": "code",
      "execution_count": null,
      "metadata": {
        "id": "kasy5v3vsUsR"
      },
      "outputs": [],
      "source": [
        "X.index = X.pop(X.columns[0]).values\n",
        "y.drop('index',axis=1,inplace=True)\n",
        "y.index = y.pop('id').values"
      ]
    },
    {
      "attachments": {},
      "cell_type": "markdown",
      "metadata": {
        "id": "j1JPGgTNISJC"
      },
      "source": [
        "### Removing variables with high correlation"
      ]
    },
    {
      "cell_type": "code",
      "execution_count": null,
      "metadata": {
        "id": "xjRvZ7EtsUss"
      },
      "outputs": [],
      "source": [
        "corr = X.corr().abs()\n",
        "_X = X.copy()"
      ]
    },
    {
      "cell_type": "code",
      "execution_count": null,
      "metadata": {
        "id": "jA8DXqzhsUst"
      },
      "outputs": [],
      "source": [
        "# Select upper triangle of correlation matrix\n",
        "upper = corr.where(np.triu(np.ones(corr.shape), k=1).astype(bool))\n",
        "\n",
        "# Find features with correlation greater than 80%\n",
        "to_drop = [column for column in upper.columns if any(upper[column] > 0.80)]\n",
        "\n",
        "# Drop features \n",
        "_X.drop(to_drop, axis=1, inplace=True)"
      ]
    },
    {
      "cell_type": "code",
      "execution_count": null,
      "metadata": {
        "colab": {
          "base_uri": "https://localhost:8080/"
        },
        "id": "X_rrNhDdsUsv",
        "outputId": "d9277e14-4cfb-4678-c42d-cbefdcd81a6c"
      },
      "outputs": [
        {
          "data": {
            "text/plain": [
              "['var',\n",
              " '0.75',\n",
              " 'var_day_1',\n",
              " 'var_day_3',\n",
              " 'var_day_5',\n",
              " 'var_day_7',\n",
              " 'hjorth_complexity',\n",
              " 'permutation_entropy_n_3',\n",
              " 'permutation_entropy_n_4',\n",
              " 'above_0.8*max',\n",
              " 'above_0.9*max',\n",
              " 'above_0.7*mean',\n",
              " 'above_0.8*mean',\n",
              " 'above_0.9*mean',\n",
              " 'above_mean',\n",
              " 'abs_energy',\n",
              " 'cid_ce',\n",
              " 'fft_skew',\n",
              " 'fft_kurtosis',\n",
              " 'skewness',\n",
              " 'intradaily_variability']"
            ]
          },
          "execution_count": 30,
          "metadata": {},
          "output_type": "execute_result"
        }
      ],
      "source": [
        "to_drop"
      ]
    },
    {
      "attachments": {},
      "cell_type": "markdown",
      "metadata": {
        "id": "Holm7ehvIwZ0"
      },
      "source": [
        "## Models"
      ]
    },
    {
      "cell_type": "code",
      "execution_count": null,
      "metadata": {
        "id": "xpJvaSXY7dR8"
      },
      "outputs": [],
      "source": [
        "from sklearn.preprocessing import StandardScaler\n",
        "from sklearn.pipeline import make_pipeline\n",
        "from sklearn.model_selection import cross_val_score\n",
        "from sklearn.preprocessing import StandardScaler\n",
        "from sklearn.model_selection import GridSearchCV\n",
        "from sklearn.pipeline import Pipeline\n",
        "\n",
        "cv=10"
      ]
    },
    {
      "cell_type": "markdown",
      "metadata": {
        "id": "WodEUh335Rth"
      },
      "source": [
        "### Quadratic Discriminant Analysis (QDA)"
      ]
    },
    {
      "cell_type": "code",
      "execution_count": null,
      "metadata": {
        "colab": {
          "base_uri": "https://localhost:8080/"
        },
        "id": "zjDjylhGsUsY",
        "outputId": "5fd174cd-22dc-4901-c18c-48c9a98b12d3"
      },
      "outputs": [
        {
          "name": "stdout",
          "output_type": "stream",
          "text": [
            "QDA mean score: 0.41 \n",
            "Standard deviation: 0.03\n"
          ]
        }
      ],
      "source": [
        "from sklearn.discriminant_analysis import QuadraticDiscriminantAnalysis\n",
        "\n",
        "qda_clf = QuadraticDiscriminantAnalysis()\n",
        "pipe_qda_clf = make_pipeline(StandardScaler(), qda_clf)\n",
        "qda_score = cross_val_score(pipe_qda_clf, _X, y.values.ravel(), scoring='accuracy', cv=cv)\n",
        "print(f'QDA mean score: {qda_score.mean():.2f} \\nStandard deviation: {qda_score.std():.2f}')"
      ]
    },
    {
      "cell_type": "markdown",
      "metadata": {
        "id": "GquqKajS7vxj"
      },
      "source": [
        "### Random Forest"
      ]
    },
    {
      "attachments": {},
      "cell_type": "markdown",
      "metadata": {
        "id": "p_wWlaTv8vs-"
      },
      "source": [
        "#### Model performance before hyperparameter tuning"
      ]
    },
    {
      "cell_type": "code",
      "execution_count": null,
      "metadata": {
        "colab": {
          "base_uri": "https://localhost:8080/"
        },
        "id": "B8-LRyMEsUsZ",
        "outputId": "c19ed87b-4172-4f0a-9cef-3baed8e98f40"
      },
      "outputs": [
        {
          "name": "stdout",
          "output_type": "stream",
          "text": [
            "Random Forest mean score: 0.40 \n",
            "Standard deviation: 0.09\n"
          ]
        }
      ],
      "source": [
        "from sklearn.ensemble import RandomForestClassifier\n",
        "\n",
        "rf_clf = RandomForestClassifier(random_state=42)\n",
        "pipe_rf_clf = make_pipeline(StandardScaler(), rf_clf)\n",
        "rf_score = cross_val_score(pipe_rf_clf, _X, y.values.ravel(), scoring='accuracy', cv=cv)\n",
        "print(f'Random Forest mean score: {rf_score.mean():.2f} \\nStandard deviation: {rf_score.std():.2f}')"
      ]
    },
    {
      "attachments": {},
      "cell_type": "markdown",
      "metadata": {
        "id": "LLkn6OpU7_CL"
      },
      "source": [
        "#### Hyperparameter tuning"
      ]
    },
    {
      "cell_type": "code",
      "execution_count": null,
      "metadata": {
        "id": "3JRprpRLsUsa"
      },
      "outputs": [],
      "source": [
        "rf_param_grid = {\n",
        "    'rf__n_estimators': [25, 50, 100, 150],\n",
        "    'rf__max_features': ['sqrt', 'log2', None],\n",
        "    'rf__max_depth': [3, 6, 9],\n",
        "    'rf__max_leaf_nodes': [3, 6, 9],\n",
        "}"
      ]
    },
    {
      "cell_type": "code",
      "execution_count": null,
      "metadata": {
        "colab": {
          "base_uri": "https://localhost:8080/"
        },
        "id": "LpTqSep7sUsb",
        "outputId": "316014b8-1306-4bb0-faf7-b2dc1944fbec"
      },
      "outputs": [
        {
          "name": "stdout",
          "output_type": "stream",
          "text": [
            "[Pipeline] ............ (step 1 of 2) Processing scaler, total=   0.0s\n",
            "[Pipeline] ................ (step 2 of 2) Processing rf, total=   0.2s\n",
            "Best parameter (CV score=0.428):\n",
            "{'rf__max_depth': 3, 'rf__max_features': 'sqrt', 'rf__max_leaf_nodes': 3, 'rf__n_estimators': 100}\n"
          ]
        }
      ],
      "source": [
        "rf_pipe = Pipeline(steps=[(\"scaler\", StandardScaler()), (\"rf\", RandomForestClassifier(random_state=42))], verbose=2)\n",
        "\n",
        "rf_search = GridSearchCV(rf_pipe, rf_param_grid, scoring='accuracy', cv=10, n_jobs=-1)\n",
        "rf_search.fit(_X, y.values.ravel())\n",
        "print(\"Best parameter (CV score=%0.3f):\" % rf_search.best_score_)\n",
        "print(rf_search.best_params_)"
      ]
    },
    {
      "attachments": {},
      "cell_type": "markdown",
      "metadata": {
        "id": "JZR_dADw9Y3D"
      },
      "source": [
        "#### Model performance after hyperparameter tuning"
      ]
    },
    {
      "cell_type": "code",
      "execution_count": null,
      "metadata": {
        "colab": {
          "base_uri": "https://localhost:8080/"
        },
        "id": "6CePOAoNsUsf",
        "outputId": "1149af87-8562-413a-f8d8-10434134584c"
      },
      "outputs": [
        {
          "name": "stdout",
          "output_type": "stream",
          "text": [
            "Random Forest mean score: 0.43 \n",
            "Standard deviation: 0.09\n"
          ]
        }
      ],
      "source": [
        "from sklearn.ensemble import RandomForestClassifier\n",
        "\n",
        "rf_clf = RandomForestClassifier(random_state=42, max_depth=3, max_features='sqrt', max_leaf_nodes=3, n_estimators=100)\n",
        "pipe_rf_clf = make_pipeline(StandardScaler(), rf_clf)\n",
        "rf_score = cross_val_score(pipe_rf_clf, _X, y.values.ravel(), scoring='accuracy', cv=cv)\n",
        "print(f'Random Forest mean score: {rf_score.mean():.2f} \\nStandard deviation: {rf_score.std():.2f}')"
      ]
    },
    {
      "cell_type": "markdown",
      "metadata": {
        "id": "oILhTCcd-QUL"
      },
      "source": [
        "### Multi-layer Perceptron classifier"
      ]
    },
    {
      "attachments": {},
      "cell_type": "markdown",
      "metadata": {
        "id": "mDXWs05jFAdV"
      },
      "source": [
        "#### Hyperparameter tuning"
      ]
    },
    {
      "cell_type": "code",
      "execution_count": null,
      "metadata": {
        "id": "ufNihsqTsUsk"
      },
      "outputs": [],
      "source": [
        "param_grid = [\n",
        "        {\n",
        "            'nn__activation' : ['identity', 'logistic', 'tanh', 'relu'],\n",
        "            'nn__solver' : ['lbfgs', 'sgd', 'adam'],\n",
        "            'nn__hidden_layer_sizes': [\n",
        "             (1,),(2,),(3,),(4,),(5,),(6,),(7,),(8,),(9,),(10,),(11,), (12,),(13,),(14,),(15,),(16,),(17,),(18,),(19,),(20,),(21,)\n",
        "             ]\n",
        "        }\n",
        "]"
      ]
    },
    {
      "cell_type": "code",
      "execution_count": null,
      "metadata": {
        "colab": {
          "base_uri": "https://localhost:8080/"
        },
        "id": "5H-lNglusUsl",
        "outputId": "6ec29e2f-bae8-4c30-c0fb-9502ad5790a2"
      },
      "outputs": [
        {
          "name": "stdout",
          "output_type": "stream",
          "text": [
            "[Pipeline] ............ (step 1 of 2) Processing scaler, total=   0.0s\n",
            "[Pipeline] ................ (step 2 of 2) Processing nn, total=   0.1s\n",
            "Best parameter (CV score=0.441):\n",
            "{'nn__activation': 'relu', 'nn__hidden_layer_sizes': (2,), 'nn__solver': 'sgd'}\n"
          ]
        }
      ],
      "source": [
        "from sklearn.neural_network import MLPClassifier\n",
        "\n",
        "pipe = Pipeline(steps=[(\"scaler\", StandardScaler()), (\"nn\", MLPClassifier(random_state=42, max_iter=300))], verbose=2)\n",
        "\n",
        "search = GridSearchCV(pipe, param_grid, scoring='accuracy', cv=10, n_jobs=-1)\n",
        "search.fit(_X, y.values.ravel())\n",
        "print(\"Best parameter (CV score=%0.3f):\" % search.best_score_)\n",
        "print(search.best_params_)"
      ]
    },
    {
      "attachments": {},
      "cell_type": "markdown",
      "metadata": {
        "id": "CX6njk8EHDmD"
      },
      "source": [
        "#### Model performance"
      ]
    },
    {
      "cell_type": "code",
      "execution_count": null,
      "metadata": {
        "colab": {
          "base_uri": "https://localhost:8080/"
        },
        "id": "vYP00-0tsUsp",
        "outputId": "eb21379a-8f24-42c6-c145-949154798d40"
      },
      "outputs": [
        {
          "name": "stdout",
          "output_type": "stream",
          "text": [
            "MLP Classifier mean score: 0.51 \n",
            "Standard deviation: 0.16\n"
          ]
        }
      ],
      "source": [
        "mlp_clf = MLPClassifier(random_state=42, max_iter=300, hidden_layer_sizes=(6,), solver='sgd')\n",
        "pipe_nn_clf = make_pipeline(StandardScaler(), mlp_clf)\n",
        "nn_score = cross_val_score(pipe_nn_clf, X, y.values.ravel(), scoring='accuracy', cv=cv)\n",
        "print(f'MLP Classifier mean score: {nn_score.mean():.2f} \\nStandard deviation: {nn_score.std():.2f}')"
      ]
    },
    {
      "attachments": {},
      "cell_type": "markdown",
      "metadata": {
        "id": "oOYqoKNhJfqI"
      },
      "source": [
        "## Other attemtps"
      ]
    },
    {
      "cell_type": "markdown",
      "metadata": {
        "id": "A_8ads8M9pHQ"
      },
      "source": [
        "### Suport Vector Classification (SVC)"
      ]
    },
    {
      "cell_type": "code",
      "execution_count": null,
      "metadata": {
        "colab": {
          "base_uri": "https://localhost:8080/"
        },
        "id": "EmIu6aW5sUsj",
        "outputId": "20fe02a9-6fbf-4297-c7ea-a7173ceb323c"
      },
      "outputs": [
        {
          "name": "stdout",
          "output_type": "stream",
          "text": [
            "Suport Vector Classifier mean score: 0.36 \n",
            "Standard deviation: 0.09\n"
          ]
        }
      ],
      "source": [
        "from sklearn.svm import SVC\n",
        "\n",
        "svc_clf = SVC(random_state=42)\n",
        "pipe_svc_clf = make_pipeline(StandardScaler(), svc_clf)\n",
        "svc_score = cross_val_score(pipe_svc_clf, _X, y.values.ravel(), scoring='accuracy', cv=cv)\n",
        "print(f'Suport Vector Classifier mean score: {svc_score.mean():.2f} \\nStandard deviation: {svc_score.std():.2f}')"
      ]
    },
    {
      "cell_type": "markdown",
      "metadata": {
        "id": "C1ghXIH74FcP"
      },
      "source": [
        "### Naive Bayes"
      ]
    },
    {
      "cell_type": "code",
      "execution_count": null,
      "metadata": {
        "colab": {
          "base_uri": "https://localhost:8080/"
        },
        "id": "aZiaWfPisUsU",
        "outputId": "31cd31a3-4c2f-4416-d162-108bc2362bf6"
      },
      "outputs": [
        {
          "name": "stdout",
          "output_type": "stream",
          "text": [
            "Naive Bayes mean score: 0.38 \n",
            "Standard deviation: 0.10\n"
          ]
        }
      ],
      "source": [
        "from sklearn.naive_bayes import GaussianNB\n",
        "\n",
        "nb_clf = GaussianNB()\n",
        "pipe_nb_clf = make_pipeline(StandardScaler(), nb_clf)\n",
        "nb_score = cross_val_score(pipe_nb_clf, _X, y.values.ravel(), scoring='accuracy', cv=cv)\n",
        "print(f'Naive Bayes mean score: {nb_score.mean():.2f} \\nStandard deviation: {nb_score.std():.2f}')"
      ]
    },
    {
      "attachments": {},
      "cell_type": "markdown",
      "metadata": {
        "id": "O_FM22pLJljG"
      },
      "source": [
        "### Voting Classifer"
      ]
    },
    {
      "cell_type": "code",
      "execution_count": null,
      "metadata": {
        "colab": {
          "base_uri": "https://localhost:8080/"
        },
        "id": "YiQ4F156sUsr",
        "outputId": "0a4eb5a2-7e4a-4448-b748-50f4433074c9"
      },
      "outputs": [
        {
          "name": "stdout",
          "output_type": "stream",
          "text": [
            "Voting Classifier mean score: 0.37 \n",
            "Standard deviation: 0.15\n"
          ]
        }
      ],
      "source": [
        "from sklearn.ensemble import VotingClassifier\n",
        "\n",
        "estimators = [('nb', nb_clf), ('rf', rf_clf), ('svc', svc_clf), ('mlp', mlp_clf), ('qda', qda_clf)]\n",
        "eclf = VotingClassifier(estimators=estimators,voting='hard')\n",
        "pipe_eclf = make_pipeline(StandardScaler(), eclf)\n",
        "eclf_score = cross_val_score(pipe_eclf, X, y.values.ravel(), scoring='accuracy', cv=cv)\n",
        "print(f'Voting Classifier mean score: {eclf_score.mean():.2f} \\nStandard deviation: {eclf_score.std():.2f}')"
      ]
    }
  ],
  "metadata": {
    "colab": {
      "provenance": []
    },
    "kernelspec": {
      "display_name": ".env",
      "language": "python",
      "name": "python3"
    },
    "language_info": {
      "codemirror_mode": {
        "name": "ipython",
        "version": 3
      },
      "file_extension": ".py",
      "mimetype": "text/x-python",
      "name": "python",
      "nbconvert_exporter": "python",
      "pygments_lexer": "ipython3",
      "version": "3.10.11"
    },
    "orig_nbformat": 4
  },
  "nbformat": 4,
  "nbformat_minor": 0
}
