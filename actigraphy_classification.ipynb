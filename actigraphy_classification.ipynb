{
 "cells": [
  {
   "cell_type": "code",
   "execution_count": 1,
   "metadata": {},
   "outputs": [],
   "source": [
    "import pandas as pd\n",
    "import numpy as np\n",
    "from pyeeg import (\n",
    "    bin_power,\n",
    "    hfd,\n",
    "    hjorth,\n",
    "    spectral_entropy,\n",
    "    svd_entropy,\n",
    "    fisher_info,\n",
    "    ap_entropy,\n",
    "    dfa,\n",
    "    hurst,\n",
    "    permutation_entropy,\n",
    "    samp_entropy,\n",
    "    pfd\n",
    ")"
   ]
  },
  {
   "cell_type": "code",
   "execution_count": 2,
   "metadata": {},
   "outputs": [],
   "source": [
    "df = pd.read_csv('timeseries_NEW.csv')"
   ]
  },
  {
   "cell_type": "code",
   "execution_count": 3,
   "metadata": {},
   "outputs": [],
   "source": [
    "df.drop(df.columns[0], axis=1, inplace=True)"
   ]
  },
  {
   "cell_type": "code",
   "execution_count": 4,
   "metadata": {},
   "outputs": [
    {
     "data": {
      "text/html": [
       "<div>\n",
       "<style scoped>\n",
       "    .dataframe tbody tr th:only-of-type {\n",
       "        vertical-align: middle;\n",
       "    }\n",
       "\n",
       "    .dataframe tbody tr th {\n",
       "        vertical-align: top;\n",
       "    }\n",
       "\n",
       "    .dataframe thead th {\n",
       "        text-align: right;\n",
       "    }\n",
       "</style>\n",
       "<table border=\"1\" class=\"dataframe\">\n",
       "  <thead>\n",
       "    <tr style=\"text-align: right;\">\n",
       "      <th></th>\n",
       "      <th>s0209110</th>\n",
       "      <th>s0310211</th>\n",
       "      <th>s0310411</th>\n",
       "      <th>s0310703</th>\n",
       "      <th>s0310706</th>\n",
       "      <th>s0310710</th>\n",
       "      <th>s0311303</th>\n",
       "      <th>s0320307</th>\n",
       "      <th>s0408108</th>\n",
       "      <th>s0410108</th>\n",
       "      <th>...</th>\n",
       "      <th>s8010707</th>\n",
       "      <th>s8108205</th>\n",
       "      <th>s8420304</th>\n",
       "      <th>s8508108</th>\n",
       "      <th>s8608101</th>\n",
       "      <th>s8710205</th>\n",
       "      <th>s9309101</th>\n",
       "      <th>s9509011</th>\n",
       "      <th>s9709110</th>\n",
       "      <th>s9809003</th>\n",
       "    </tr>\n",
       "  </thead>\n",
       "  <tbody>\n",
       "    <tr>\n",
       "      <th>0</th>\n",
       "      <td>8.32</td>\n",
       "      <td>0.0</td>\n",
       "      <td>26.75</td>\n",
       "      <td>0.0</td>\n",
       "      <td>72.66</td>\n",
       "      <td>74.72</td>\n",
       "      <td>0.0</td>\n",
       "      <td>0.13</td>\n",
       "      <td>12.36</td>\n",
       "      <td>0.0</td>\n",
       "      <td>...</td>\n",
       "      <td>0.00</td>\n",
       "      <td>0.0</td>\n",
       "      <td>0.00</td>\n",
       "      <td>0.0</td>\n",
       "      <td>0.00</td>\n",
       "      <td>0.0</td>\n",
       "      <td>0.00</td>\n",
       "      <td>0.0</td>\n",
       "      <td>0.0</td>\n",
       "      <td>0.0</td>\n",
       "    </tr>\n",
       "    <tr>\n",
       "      <th>1</th>\n",
       "      <td>5.57</td>\n",
       "      <td>0.0</td>\n",
       "      <td>30.88</td>\n",
       "      <td>0.0</td>\n",
       "      <td>33.76</td>\n",
       "      <td>120.70</td>\n",
       "      <td>0.0</td>\n",
       "      <td>0.06</td>\n",
       "      <td>13.88</td>\n",
       "      <td>0.0</td>\n",
       "      <td>...</td>\n",
       "      <td>0.00</td>\n",
       "      <td>0.2</td>\n",
       "      <td>0.00</td>\n",
       "      <td>0.0</td>\n",
       "      <td>4.75</td>\n",
       "      <td>0.0</td>\n",
       "      <td>5.35</td>\n",
       "      <td>0.0</td>\n",
       "      <td>0.0</td>\n",
       "      <td>0.0</td>\n",
       "    </tr>\n",
       "    <tr>\n",
       "      <th>2</th>\n",
       "      <td>13.60</td>\n",
       "      <td>0.0</td>\n",
       "      <td>17.23</td>\n",
       "      <td>0.0</td>\n",
       "      <td>38.43</td>\n",
       "      <td>199.51</td>\n",
       "      <td>0.0</td>\n",
       "      <td>29.35</td>\n",
       "      <td>10.79</td>\n",
       "      <td>0.1</td>\n",
       "      <td>...</td>\n",
       "      <td>6.34</td>\n",
       "      <td>0.0</td>\n",
       "      <td>0.03</td>\n",
       "      <td>0.0</td>\n",
       "      <td>0.00</td>\n",
       "      <td>0.0</td>\n",
       "      <td>0.47</td>\n",
       "      <td>0.0</td>\n",
       "      <td>0.0</td>\n",
       "      <td>0.0</td>\n",
       "    </tr>\n",
       "    <tr>\n",
       "      <th>3</th>\n",
       "      <td>5.06</td>\n",
       "      <td>0.0</td>\n",
       "      <td>1.75</td>\n",
       "      <td>0.0</td>\n",
       "      <td>21.80</td>\n",
       "      <td>60.94</td>\n",
       "      <td>0.0</td>\n",
       "      <td>72.06</td>\n",
       "      <td>27.75</td>\n",
       "      <td>0.0</td>\n",
       "      <td>...</td>\n",
       "      <td>0.00</td>\n",
       "      <td>0.0</td>\n",
       "      <td>0.00</td>\n",
       "      <td>0.0</td>\n",
       "      <td>0.00</td>\n",
       "      <td>0.0</td>\n",
       "      <td>0.00</td>\n",
       "      <td>0.0</td>\n",
       "      <td>0.0</td>\n",
       "      <td>0.0</td>\n",
       "    </tr>\n",
       "    <tr>\n",
       "      <th>4</th>\n",
       "      <td>0.00</td>\n",
       "      <td>0.0</td>\n",
       "      <td>11.72</td>\n",
       "      <td>0.0</td>\n",
       "      <td>26.64</td>\n",
       "      <td>35.22</td>\n",
       "      <td>0.0</td>\n",
       "      <td>39.49</td>\n",
       "      <td>50.18</td>\n",
       "      <td>0.0</td>\n",
       "      <td>...</td>\n",
       "      <td>0.00</td>\n",
       "      <td>0.0</td>\n",
       "      <td>0.00</td>\n",
       "      <td>0.0</td>\n",
       "      <td>0.00</td>\n",
       "      <td>0.0</td>\n",
       "      <td>0.00</td>\n",
       "      <td>0.0</td>\n",
       "      <td>0.0</td>\n",
       "      <td>0.0</td>\n",
       "    </tr>\n",
       "  </tbody>\n",
       "</table>\n",
       "<p>5 rows × 96 columns</p>\n",
       "</div>"
      ],
      "text/plain": [
       "   s0209110  s0310211  s0310411  s0310703  s0310706  s0310710  s0311303   \n",
       "0      8.32       0.0     26.75       0.0     72.66     74.72       0.0  \\\n",
       "1      5.57       0.0     30.88       0.0     33.76    120.70       0.0   \n",
       "2     13.60       0.0     17.23       0.0     38.43    199.51       0.0   \n",
       "3      5.06       0.0      1.75       0.0     21.80     60.94       0.0   \n",
       "4      0.00       0.0     11.72       0.0     26.64     35.22       0.0   \n",
       "\n",
       "   s0320307  s0408108  s0410108  ...  s8010707  s8108205  s8420304  s8508108   \n",
       "0      0.13     12.36       0.0  ...      0.00       0.0      0.00       0.0  \\\n",
       "1      0.06     13.88       0.0  ...      0.00       0.2      0.00       0.0   \n",
       "2     29.35     10.79       0.1  ...      6.34       0.0      0.03       0.0   \n",
       "3     72.06     27.75       0.0  ...      0.00       0.0      0.00       0.0   \n",
       "4     39.49     50.18       0.0  ...      0.00       0.0      0.00       0.0   \n",
       "\n",
       "   s8608101  s8710205  s9309101  s9509011  s9709110  s9809003  \n",
       "0      0.00       0.0      0.00       0.0       0.0       0.0  \n",
       "1      4.75       0.0      5.35       0.0       0.0       0.0  \n",
       "2      0.00       0.0      0.47       0.0       0.0       0.0  \n",
       "3      0.00       0.0      0.00       0.0       0.0       0.0  \n",
       "4      0.00       0.0      0.00       0.0       0.0       0.0  \n",
       "\n",
       "[5 rows x 96 columns]"
      ]
     },
     "execution_count": 4,
     "metadata": {},
     "output_type": "execute_result"
    }
   ],
   "source": [
    "df.head()"
   ]
  },
  {
   "cell_type": "code",
   "execution_count": 5,
   "metadata": {},
   "outputs": [
    {
     "data": {
      "text/plain": [
       "array([dtype('float64')], dtype=object)"
      ]
     },
     "execution_count": 5,
     "metadata": {},
     "output_type": "execute_result"
    }
   ],
   "source": [
    "df.dtypes.unique()"
   ]
  },
  {
   "cell_type": "code",
   "execution_count": 6,
   "metadata": {},
   "outputs": [],
   "source": [
    "df_features = pd.DataFrame()"
   ]
  },
  {
   "cell_type": "code",
   "execution_count": 7,
   "metadata": {},
   "outputs": [],
   "source": [
    "df_features.index = df.columns"
   ]
  },
  {
   "cell_type": "code",
   "execution_count": 8,
   "metadata": {},
   "outputs": [],
   "source": [
    "df_features['mean'] = df.mean()\n",
    "df_features['max'] = df.max()\n",
    "df_features['var'] = df.var()\n",
    "quantile = df.quantile([0.25, 0.5, 0.75]).T\n",
    "df_features[quantile.columns] = quantile"
   ]
  },
  {
   "cell_type": "code",
   "execution_count": 9,
   "metadata": {},
   "outputs": [],
   "source": [
    "days = np.split(df.to_numpy(),7)\n",
    "day_mean = np.array([day.mean(axis=0) for day in days])\n",
    "df_features['day_var'] = day_mean.var(axis=0)"
   ]
  },
  {
   "cell_type": "code",
   "execution_count": 10,
   "metadata": {},
   "outputs": [],
   "source": [
    "hjorth = np.array([hjorth(df[column]) for column in df])\n",
    "df_features['hjorth_mobility'] = hjorth[:,0]\n",
    "df_features['hjorth_complexity'] = hjorth[:,1]"
   ]
  },
  {
   "cell_type": "code",
   "execution_count": 11,
   "metadata": {},
   "outputs": [
    {
     "name": "stderr",
     "output_type": "stream",
     "text": [
      "c:\\Users\\alexj\\actigraphy-classification\\.env\\lib\\site-packages\\pyeeg-0.4.4-py3.10.egg\\pyeeg\\detrended_fluctuation_analysis.py:125: FutureWarning: `rcond` parameter will change to the default of machine precision times ``max(M, N)`` where M and N are the input matrix dimensions.\n",
      "To use the future default and silence this warning we advise to pass `rcond=None`, to keep using the old, explicitly pass `rcond=-1`.\n",
      "c:\\Users\\alexj\\actigraphy-classification\\.env\\lib\\site-packages\\pyeeg-0.4.4-py3.10.egg\\pyeeg\\detrended_fluctuation_analysis.py:129: FutureWarning: `rcond` parameter will change to the default of machine precision times ``max(M, N)`` where M and N are the input matrix dimensions.\n",
      "To use the future default and silence this warning we advise to pass `rcond=None`, to keep using the old, explicitly pass `rcond=-1`.\n"
     ]
    }
   ],
   "source": [
    "df_features['dfa'] = [dfa(df[column]) for column in df]"
   ]
  },
  {
   "cell_type": "code",
   "execution_count": 12,
   "metadata": {},
   "outputs": [],
   "source": [
    "df_features['pfd'] = [pfd(df[column]) for column in df]"
   ]
  },
  {
   "cell_type": "code",
   "execution_count": 13,
   "metadata": {},
   "outputs": [],
   "source": [
    "df_features['permutation_entropy_n_3'] = [permutation_entropy(df[column], 3, 1) for column in df]\n",
    "df_features['permutation_entropy_n_4'] = [permutation_entropy(df[column], 4, 1) for column in df]"
   ]
  },
  {
   "cell_type": "code",
   "execution_count": 14,
   "metadata": {},
   "outputs": [
    {
     "name": "stderr",
     "output_type": "stream",
     "text": [
      "c:\\Users\\alexj\\actigraphy-classification\\.env\\lib\\site-packages\\pyeeg-0.4.4-py3.10.egg\\pyeeg\\entropy.py:236: RuntimeWarning: divide by zero encountered in log\n",
      "c:\\Users\\alexj\\actigraphy-classification\\.env\\lib\\site-packages\\pyeeg-0.4.4-py3.10.egg\\pyeeg\\entropy.py:236: RuntimeWarning: invalid value encountered in double_scalars\n"
     ]
    }
   ],
   "source": [
    "df_features['spectral_entropy'] = [spectral_entropy(df[column], np.arange(0, 10080, 24*7), 1) for column in df]"
   ]
  },
  {
   "cell_type": "code",
   "execution_count": 15,
   "metadata": {},
   "outputs": [
    {
     "data": {
      "text/plain": [
       "96"
      ]
     },
     "execution_count": 15,
     "metadata": {},
     "output_type": "execute_result"
    }
   ],
   "source": [
    "df_features['spectral_entropy'].isna().sum()"
   ]
  },
  {
   "cell_type": "code",
   "execution_count": 16,
   "metadata": {},
   "outputs": [],
   "source": [
    "def heaviside_filter(X, f, filter_value):\n",
    "    return np.heaviside(X - f*filter_value,1).sum()"
   ]
  },
  {
   "cell_type": "code",
   "execution_count": 17,
   "metadata": {},
   "outputs": [],
   "source": [
    "df_features['above_0.7*max'] = heaviside_filter(df, 0.7, df.max())\n",
    "df_features['above_0.8*max'] = heaviside_filter(df, 0.8, df.max())\n",
    "df_features['above_0.9*max'] = heaviside_filter(df, 0.9, df.max())\n",
    "df_features['above_0.7*mean'] = heaviside_filter(df, 0.7, df.mean())\n",
    "df_features['above_0.8*mean'] = heaviside_filter(df, 0.8, df.mean())\n",
    "df_features['above_0.9*mean'] = heaviside_filter(df, 0.9, df.mean())"
   ]
  },
  {
   "cell_type": "code",
   "execution_count": 18,
   "metadata": {},
   "outputs": [
    {
     "data": {
      "text/html": [
       "<div>\n",
       "<style scoped>\n",
       "    .dataframe tbody tr th:only-of-type {\n",
       "        vertical-align: middle;\n",
       "    }\n",
       "\n",
       "    .dataframe tbody tr th {\n",
       "        vertical-align: top;\n",
       "    }\n",
       "\n",
       "    .dataframe thead th {\n",
       "        text-align: right;\n",
       "    }\n",
       "</style>\n",
       "<table border=\"1\" class=\"dataframe\">\n",
       "  <thead>\n",
       "    <tr style=\"text-align: right;\">\n",
       "      <th></th>\n",
       "      <th>mean</th>\n",
       "      <th>max</th>\n",
       "      <th>var</th>\n",
       "      <th>0.25</th>\n",
       "      <th>0.5</th>\n",
       "      <th>0.75</th>\n",
       "      <th>day_var</th>\n",
       "      <th>hjorth_mobility</th>\n",
       "      <th>hjorth_complexity</th>\n",
       "      <th>dfa</th>\n",
       "      <th>pfd</th>\n",
       "      <th>permutation_entropy_n_3</th>\n",
       "      <th>permutation_entropy_n_4</th>\n",
       "      <th>spectral_entropy</th>\n",
       "      <th>above_0.7*max</th>\n",
       "      <th>above_0.8*max</th>\n",
       "      <th>above_0.9*max</th>\n",
       "      <th>above_0.7*mean</th>\n",
       "      <th>above_0.8*mean</th>\n",
       "      <th>above_0.9*mean</th>\n",
       "    </tr>\n",
       "  </thead>\n",
       "  <tbody>\n",
       "    <tr>\n",
       "      <th>s0209110</th>\n",
       "      <td>32.103135</td>\n",
       "      <td>503.85</td>\n",
       "      <td>2247.832675</td>\n",
       "      <td>0.00</td>\n",
       "      <td>12.030</td>\n",
       "      <td>45.6925</td>\n",
       "      <td>39.145362</td>\n",
       "      <td>0.005811</td>\n",
       "      <td>274.105198</td>\n",
       "      <td>0.965812</td>\n",
       "      <td>1.018695</td>\n",
       "      <td>2.433537</td>\n",
       "      <td>4.217144</td>\n",
       "      <td>NaN</td>\n",
       "      <td>9.0</td>\n",
       "      <td>5.0</td>\n",
       "      <td>3.0</td>\n",
       "      <td>3972.0</td>\n",
       "      <td>3733.0</td>\n",
       "      <td>3493.0</td>\n",
       "    </tr>\n",
       "    <tr>\n",
       "      <th>s0310211</th>\n",
       "      <td>32.910309</td>\n",
       "      <td>652.34</td>\n",
       "      <td>3116.790385</td>\n",
       "      <td>0.00</td>\n",
       "      <td>10.645</td>\n",
       "      <td>46.1525</td>\n",
       "      <td>183.527628</td>\n",
       "      <td>0.005470</td>\n",
       "      <td>295.670221</td>\n",
       "      <td>1.009446</td>\n",
       "      <td>1.019075</td>\n",
       "      <td>2.445443</td>\n",
       "      <td>4.237246</td>\n",
       "      <td>NaN</td>\n",
       "      <td>15.0</td>\n",
       "      <td>5.0</td>\n",
       "      <td>1.0</td>\n",
       "      <td>3787.0</td>\n",
       "      <td>3580.0</td>\n",
       "      <td>3362.0</td>\n",
       "    </tr>\n",
       "    <tr>\n",
       "      <th>s0310411</th>\n",
       "      <td>35.884296</td>\n",
       "      <td>250.16</td>\n",
       "      <td>1627.644029</td>\n",
       "      <td>0.48</td>\n",
       "      <td>19.295</td>\n",
       "      <td>63.6100</td>\n",
       "      <td>31.404157</td>\n",
       "      <td>0.004533</td>\n",
       "      <td>352.741354</td>\n",
       "      <td>1.016422</td>\n",
       "      <td>1.019957</td>\n",
       "      <td>2.477711</td>\n",
       "      <td>4.309999</td>\n",
       "      <td>NaN</td>\n",
       "      <td>39.0</td>\n",
       "      <td>13.0</td>\n",
       "      <td>3.0</td>\n",
       "      <td>4572.0</td>\n",
       "      <td>4287.0</td>\n",
       "      <td>4036.0</td>\n",
       "    </tr>\n",
       "    <tr>\n",
       "      <th>s0310703</th>\n",
       "      <td>32.294832</td>\n",
       "      <td>599.57</td>\n",
       "      <td>3006.353329</td>\n",
       "      <td>0.00</td>\n",
       "      <td>6.620</td>\n",
       "      <td>46.0425</td>\n",
       "      <td>127.994579</td>\n",
       "      <td>0.005615</td>\n",
       "      <td>283.448745</td>\n",
       "      <td>0.985328</td>\n",
       "      <td>1.017197</td>\n",
       "      <td>2.363372</td>\n",
       "      <td>4.055431</td>\n",
       "      <td>NaN</td>\n",
       "      <td>26.0</td>\n",
       "      <td>11.0</td>\n",
       "      <td>5.0</td>\n",
       "      <td>3631.0</td>\n",
       "      <td>3423.0</td>\n",
       "      <td>3245.0</td>\n",
       "    </tr>\n",
       "    <tr>\n",
       "      <th>s0310706</th>\n",
       "      <td>27.823337</td>\n",
       "      <td>378.21</td>\n",
       "      <td>1319.747447</td>\n",
       "      <td>0.00</td>\n",
       "      <td>12.555</td>\n",
       "      <td>44.9825</td>\n",
       "      <td>27.663564</td>\n",
       "      <td>0.005501</td>\n",
       "      <td>293.167548</td>\n",
       "      <td>0.997671</td>\n",
       "      <td>1.017338</td>\n",
       "      <td>2.368780</td>\n",
       "      <td>4.064085</td>\n",
       "      <td>NaN</td>\n",
       "      <td>5.0</td>\n",
       "      <td>3.0</td>\n",
       "      <td>2.0</td>\n",
       "      <td>4382.0</td>\n",
       "      <td>4126.0</td>\n",
       "      <td>3913.0</td>\n",
       "    </tr>\n",
       "  </tbody>\n",
       "</table>\n",
       "</div>"
      ],
      "text/plain": [
       "               mean     max          var  0.25     0.5     0.75     day_var   \n",
       "s0209110  32.103135  503.85  2247.832675  0.00  12.030  45.6925   39.145362  \\\n",
       "s0310211  32.910309  652.34  3116.790385  0.00  10.645  46.1525  183.527628   \n",
       "s0310411  35.884296  250.16  1627.644029  0.48  19.295  63.6100   31.404157   \n",
       "s0310703  32.294832  599.57  3006.353329  0.00   6.620  46.0425  127.994579   \n",
       "s0310706  27.823337  378.21  1319.747447  0.00  12.555  44.9825   27.663564   \n",
       "\n",
       "          hjorth_mobility  hjorth_complexity       dfa       pfd   \n",
       "s0209110         0.005811         274.105198  0.965812  1.018695  \\\n",
       "s0310211         0.005470         295.670221  1.009446  1.019075   \n",
       "s0310411         0.004533         352.741354  1.016422  1.019957   \n",
       "s0310703         0.005615         283.448745  0.985328  1.017197   \n",
       "s0310706         0.005501         293.167548  0.997671  1.017338   \n",
       "\n",
       "          permutation_entropy_n_3  permutation_entropy_n_4  spectral_entropy   \n",
       "s0209110                 2.433537                 4.217144               NaN  \\\n",
       "s0310211                 2.445443                 4.237246               NaN   \n",
       "s0310411                 2.477711                 4.309999               NaN   \n",
       "s0310703                 2.363372                 4.055431               NaN   \n",
       "s0310706                 2.368780                 4.064085               NaN   \n",
       "\n",
       "          above_0.7*max  above_0.8*max  above_0.9*max  above_0.7*mean   \n",
       "s0209110            9.0            5.0            3.0          3972.0  \\\n",
       "s0310211           15.0            5.0            1.0          3787.0   \n",
       "s0310411           39.0           13.0            3.0          4572.0   \n",
       "s0310703           26.0           11.0            5.0          3631.0   \n",
       "s0310706            5.0            3.0            2.0          4382.0   \n",
       "\n",
       "          above_0.8*mean  above_0.9*mean  \n",
       "s0209110          3733.0          3493.0  \n",
       "s0310211          3580.0          3362.0  \n",
       "s0310411          4287.0          4036.0  \n",
       "s0310703          3423.0          3245.0  \n",
       "s0310706          4126.0          3913.0  "
      ]
     },
     "execution_count": 18,
     "metadata": {},
     "output_type": "execute_result"
    }
   ],
   "source": [
    "df_features.head()"
   ]
  }
 ],
 "metadata": {
  "kernelspec": {
   "display_name": "Python 3",
   "language": "python",
   "name": "python3"
  },
  "language_info": {
   "codemirror_mode": {
    "name": "ipython",
    "version": 3
   },
   "file_extension": ".py",
   "mimetype": "text/x-python",
   "name": "python",
   "nbconvert_exporter": "python",
   "pygments_lexer": "ipython3",
   "version": "3.10.11"
  },
  "orig_nbformat": 4
 },
 "nbformat": 4,
 "nbformat_minor": 2
}
