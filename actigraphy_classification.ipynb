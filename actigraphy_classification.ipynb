{
 "cells": [
  {
   "cell_type": "code",
   "execution_count": 15,
   "metadata": {},
   "outputs": [],
   "source": [
    "import pandas as pd\n",
    "import numpy as np\n",
    "from pyeeg import (\n",
    "    bin_power,\n",
    "    hfd,\n",
    "    hjorth,\n",
    "    spectral_entropy,\n",
    "    svd_entropy,\n",
    "    fisher_info,\n",
    "    ap_entropy,\n",
    "    dfa,\n",
    "    hurst,\n",
    "    permutation_entropy,\n",
    "    spectral_entropy,\n",
    "    samp_entropy,\n",
    "    pfd\n",
    ")"
   ]
  },
  {
   "cell_type": "code",
   "execution_count": 16,
   "metadata": {},
   "outputs": [],
   "source": [
    "df = pd.read_csv('timeseries_NEW.csv')"
   ]
  },
  {
   "cell_type": "code",
   "execution_count": 17,
   "metadata": {},
   "outputs": [],
   "source": [
    "df.drop(df.columns[0], axis=1, inplace=True)"
   ]
  },
  {
   "cell_type": "code",
   "execution_count": 18,
   "metadata": {},
   "outputs": [
    {
     "data": {
      "text/html": [
       "<div>\n",
       "<style scoped>\n",
       "    .dataframe tbody tr th:only-of-type {\n",
       "        vertical-align: middle;\n",
       "    }\n",
       "\n",
       "    .dataframe tbody tr th {\n",
       "        vertical-align: top;\n",
       "    }\n",
       "\n",
       "    .dataframe thead th {\n",
       "        text-align: right;\n",
       "    }\n",
       "</style>\n",
       "<table border=\"1\" class=\"dataframe\">\n",
       "  <thead>\n",
       "    <tr style=\"text-align: right;\">\n",
       "      <th></th>\n",
       "      <th>s0209110</th>\n",
       "      <th>s0310211</th>\n",
       "      <th>s0310411</th>\n",
       "      <th>s0310703</th>\n",
       "      <th>s0310706</th>\n",
       "      <th>s0310710</th>\n",
       "      <th>s0311303</th>\n",
       "      <th>s0320307</th>\n",
       "      <th>s0408108</th>\n",
       "      <th>s0410108</th>\n",
       "      <th>...</th>\n",
       "      <th>s8010707</th>\n",
       "      <th>s8108205</th>\n",
       "      <th>s8420304</th>\n",
       "      <th>s8508108</th>\n",
       "      <th>s8608101</th>\n",
       "      <th>s8710205</th>\n",
       "      <th>s9309101</th>\n",
       "      <th>s9509011</th>\n",
       "      <th>s9709110</th>\n",
       "      <th>s9809003</th>\n",
       "    </tr>\n",
       "  </thead>\n",
       "  <tbody>\n",
       "    <tr>\n",
       "      <th>0</th>\n",
       "      <td>8.32</td>\n",
       "      <td>0.0</td>\n",
       "      <td>26.75</td>\n",
       "      <td>0.0</td>\n",
       "      <td>72.66</td>\n",
       "      <td>74.72</td>\n",
       "      <td>0.0</td>\n",
       "      <td>0.13</td>\n",
       "      <td>12.36</td>\n",
       "      <td>0.0</td>\n",
       "      <td>...</td>\n",
       "      <td>0.00</td>\n",
       "      <td>0.0</td>\n",
       "      <td>0.00</td>\n",
       "      <td>0.0</td>\n",
       "      <td>0.00</td>\n",
       "      <td>0.0</td>\n",
       "      <td>0.00</td>\n",
       "      <td>0.0</td>\n",
       "      <td>0.0</td>\n",
       "      <td>0.0</td>\n",
       "    </tr>\n",
       "    <tr>\n",
       "      <th>1</th>\n",
       "      <td>5.57</td>\n",
       "      <td>0.0</td>\n",
       "      <td>30.88</td>\n",
       "      <td>0.0</td>\n",
       "      <td>33.76</td>\n",
       "      <td>120.70</td>\n",
       "      <td>0.0</td>\n",
       "      <td>0.06</td>\n",
       "      <td>13.88</td>\n",
       "      <td>0.0</td>\n",
       "      <td>...</td>\n",
       "      <td>0.00</td>\n",
       "      <td>0.2</td>\n",
       "      <td>0.00</td>\n",
       "      <td>0.0</td>\n",
       "      <td>4.75</td>\n",
       "      <td>0.0</td>\n",
       "      <td>5.35</td>\n",
       "      <td>0.0</td>\n",
       "      <td>0.0</td>\n",
       "      <td>0.0</td>\n",
       "    </tr>\n",
       "    <tr>\n",
       "      <th>2</th>\n",
       "      <td>13.60</td>\n",
       "      <td>0.0</td>\n",
       "      <td>17.23</td>\n",
       "      <td>0.0</td>\n",
       "      <td>38.43</td>\n",
       "      <td>199.51</td>\n",
       "      <td>0.0</td>\n",
       "      <td>29.35</td>\n",
       "      <td>10.79</td>\n",
       "      <td>0.1</td>\n",
       "      <td>...</td>\n",
       "      <td>6.34</td>\n",
       "      <td>0.0</td>\n",
       "      <td>0.03</td>\n",
       "      <td>0.0</td>\n",
       "      <td>0.00</td>\n",
       "      <td>0.0</td>\n",
       "      <td>0.47</td>\n",
       "      <td>0.0</td>\n",
       "      <td>0.0</td>\n",
       "      <td>0.0</td>\n",
       "    </tr>\n",
       "    <tr>\n",
       "      <th>3</th>\n",
       "      <td>5.06</td>\n",
       "      <td>0.0</td>\n",
       "      <td>1.75</td>\n",
       "      <td>0.0</td>\n",
       "      <td>21.80</td>\n",
       "      <td>60.94</td>\n",
       "      <td>0.0</td>\n",
       "      <td>72.06</td>\n",
       "      <td>27.75</td>\n",
       "      <td>0.0</td>\n",
       "      <td>...</td>\n",
       "      <td>0.00</td>\n",
       "      <td>0.0</td>\n",
       "      <td>0.00</td>\n",
       "      <td>0.0</td>\n",
       "      <td>0.00</td>\n",
       "      <td>0.0</td>\n",
       "      <td>0.00</td>\n",
       "      <td>0.0</td>\n",
       "      <td>0.0</td>\n",
       "      <td>0.0</td>\n",
       "    </tr>\n",
       "    <tr>\n",
       "      <th>4</th>\n",
       "      <td>0.00</td>\n",
       "      <td>0.0</td>\n",
       "      <td>11.72</td>\n",
       "      <td>0.0</td>\n",
       "      <td>26.64</td>\n",
       "      <td>35.22</td>\n",
       "      <td>0.0</td>\n",
       "      <td>39.49</td>\n",
       "      <td>50.18</td>\n",
       "      <td>0.0</td>\n",
       "      <td>...</td>\n",
       "      <td>0.00</td>\n",
       "      <td>0.0</td>\n",
       "      <td>0.00</td>\n",
       "      <td>0.0</td>\n",
       "      <td>0.00</td>\n",
       "      <td>0.0</td>\n",
       "      <td>0.00</td>\n",
       "      <td>0.0</td>\n",
       "      <td>0.0</td>\n",
       "      <td>0.0</td>\n",
       "    </tr>\n",
       "  </tbody>\n",
       "</table>\n",
       "<p>5 rows × 96 columns</p>\n",
       "</div>"
      ],
      "text/plain": [
       "   s0209110  s0310211  s0310411  s0310703  s0310706  s0310710  s0311303  \\\n",
       "0      8.32       0.0     26.75       0.0     72.66     74.72       0.0   \n",
       "1      5.57       0.0     30.88       0.0     33.76    120.70       0.0   \n",
       "2     13.60       0.0     17.23       0.0     38.43    199.51       0.0   \n",
       "3      5.06       0.0      1.75       0.0     21.80     60.94       0.0   \n",
       "4      0.00       0.0     11.72       0.0     26.64     35.22       0.0   \n",
       "\n",
       "   s0320307  s0408108  s0410108  ...  s8010707  s8108205  s8420304  s8508108  \\\n",
       "0      0.13     12.36       0.0  ...      0.00       0.0      0.00       0.0   \n",
       "1      0.06     13.88       0.0  ...      0.00       0.2      0.00       0.0   \n",
       "2     29.35     10.79       0.1  ...      6.34       0.0      0.03       0.0   \n",
       "3     72.06     27.75       0.0  ...      0.00       0.0      0.00       0.0   \n",
       "4     39.49     50.18       0.0  ...      0.00       0.0      0.00       0.0   \n",
       "\n",
       "   s8608101  s8710205  s9309101  s9509011  s9709110  s9809003  \n",
       "0      0.00       0.0      0.00       0.0       0.0       0.0  \n",
       "1      4.75       0.0      5.35       0.0       0.0       0.0  \n",
       "2      0.00       0.0      0.47       0.0       0.0       0.0  \n",
       "3      0.00       0.0      0.00       0.0       0.0       0.0  \n",
       "4      0.00       0.0      0.00       0.0       0.0       0.0  \n",
       "\n",
       "[5 rows x 96 columns]"
      ]
     },
     "execution_count": 18,
     "metadata": {},
     "output_type": "execute_result"
    }
   ],
   "source": [
    "df.head()"
   ]
  },
  {
   "cell_type": "code",
   "execution_count": 19,
   "metadata": {},
   "outputs": [
    {
     "data": {
      "text/plain": [
       "array([dtype('float64')], dtype=object)"
      ]
     },
     "execution_count": 19,
     "metadata": {},
     "output_type": "execute_result"
    }
   ],
   "source": [
    "df.dtypes.unique()"
   ]
  },
  {
   "cell_type": "code",
   "execution_count": 20,
   "metadata": {},
   "outputs": [],
   "source": [
    "df_features = pd.DataFrame()"
   ]
  },
  {
   "cell_type": "code",
   "execution_count": 21,
   "metadata": {},
   "outputs": [],
   "source": [
    "df_features.index = df.columns"
   ]
  },
  {
   "cell_type": "code",
   "execution_count": 125,
   "metadata": {},
   "outputs": [],
   "source": [
    "df_features['mean'] = df.mean()\n",
    "df_features['max'] = df.max()\n",
    "df_features['var'] = df.var()\n",
    "quantile = df.quantile([0.25, 0.5, 0.75]).T\n",
    "df_features[quantile.columns] = quantile"
   ]
  },
  {
   "cell_type": "code",
   "execution_count": 117,
   "metadata": {},
   "outputs": [],
   "source": [
    "days = np.split(df.to_numpy(),7)\n",
    "day_mean = np.array([day.mean(axis=0) for day in days])\n",
    "df_features['day_var'] = day_mean.var(axis=0)"
   ]
  },
  {
   "cell_type": "code",
   "execution_count": 23,
   "metadata": {},
   "outputs": [],
   "source": [
    "hjorth = np.array([hjorth(df[column]) for column in df])\n",
    "df_features['hjorth_mobility'] = hjorth[:,0]\n",
    "df_features['hjorth_complexity'] = hjorth[:,1]"
   ]
  },
  {
   "cell_type": "code",
   "execution_count": 25,
   "metadata": {},
   "outputs": [
    {
     "name": "stderr",
     "output_type": "stream",
     "text": [
      "C:\\Users\\alexj\\AppData\\Roaming\\Python\\Python311\\site-packages\\pyeeg-0.4.4-py3.11.egg\\pyeeg\\detrended_fluctuation_analysis.py:125: FutureWarning: `rcond` parameter will change to the default of machine precision times ``max(M, N)`` where M and N are the input matrix dimensions.\n",
      "To use the future default and silence this warning we advise to pass `rcond=None`, to keep using the old, explicitly pass `rcond=-1`.\n",
      "C:\\Users\\alexj\\AppData\\Roaming\\Python\\Python311\\site-packages\\pyeeg-0.4.4-py3.11.egg\\pyeeg\\detrended_fluctuation_analysis.py:129: FutureWarning: `rcond` parameter will change to the default of machine precision times ``max(M, N)`` where M and N are the input matrix dimensions.\n",
      "To use the future default and silence this warning we advise to pass `rcond=None`, to keep using the old, explicitly pass `rcond=-1`.\n"
     ]
    }
   ],
   "source": [
    "df_features['dfa'] = [dfa(df[column]) for column in df]"
   ]
  },
  {
   "cell_type": "code",
   "execution_count": 27,
   "metadata": {},
   "outputs": [
    {
     "name": "stderr",
     "output_type": "stream",
     "text": [
      "C:\\Users\\alexj\\AppData\\Roaming\\Python\\Python311\\site-packages\\pyeeg-0.4.4-py3.11.egg\\pyeeg\\hurst.py:54: RuntimeWarning: invalid value encountered in divide\n",
      "C:\\Users\\alexj\\AppData\\Roaming\\Python\\Python311\\site-packages\\pyeeg-0.4.4-py3.11.egg\\pyeeg\\hurst.py:58: FutureWarning: `rcond` parameter will change to the default of machine precision times ``max(M, N)`` where M and N are the input matrix dimensions.\n",
      "To use the future default and silence this warning we advise to pass `rcond=None`, to keep using the old, explicitly pass `rcond=-1`.\n"
     ]
    }
   ],
   "source": [
    "df_features['hurst'] = [hurst(df[column]) for column in df]"
   ]
  },
  {
   "cell_type": "code",
   "execution_count": 32,
   "metadata": {},
   "outputs": [
    {
     "data": {
      "text/plain": [
       "27"
      ]
     },
     "execution_count": 32,
     "metadata": {},
     "output_type": "execute_result"
    }
   ],
   "source": [
    "df_features['hurst'].isna().sum()"
   ]
  },
  {
   "cell_type": "code",
   "execution_count": 22,
   "metadata": {},
   "outputs": [],
   "source": [
    "df_features['pfd'] = [pfd(df[column]) for column in df]"
   ]
  },
  {
   "cell_type": "code",
   "execution_count": 33,
   "metadata": {},
   "outputs": [
    {
     "data": {
      "text/plain": [
       "pfd                   0\n",
       "hjorth_mobility       0\n",
       "hjorth_complexity     0\n",
       "dfa                   0\n",
       "hurst                27\n",
       "dtype: int64"
      ]
     },
     "execution_count": 33,
     "metadata": {},
     "output_type": "execute_result"
    }
   ],
   "source": [
    "df_features.isna().sum()"
   ]
  }
 ],
 "metadata": {
  "kernelspec": {
   "display_name": "Python 3",
   "language": "python",
   "name": "python3"
  },
  "language_info": {
   "codemirror_mode": {
    "name": "ipython",
    "version": 3
   },
   "file_extension": ".py",
   "mimetype": "text/x-python",
   "name": "python",
   "nbconvert_exporter": "python",
   "pygments_lexer": "ipython3",
   "version": "3.11.1"
  },
  "orig_nbformat": 4
 },
 "nbformat": 4,
 "nbformat_minor": 2
}
